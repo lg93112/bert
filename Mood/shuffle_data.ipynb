{
 "cells": [
  {
   "cell_type": "code",
   "execution_count": 13,
   "metadata": {},
   "outputs": [],
   "source": [
    "import numpy as np\n",
    "\n",
    "with open('trainraw.tsv') as traintsv:\n",
    "    trainlines = traintsv.read().split('\\n')[:]\n",
    "\n",
    "trainset_size = len(trainlines)\n",
    "indices = list(range(trainset_size))\n",
    "np.random.shuffle(indices)\n",
    "train = [trainlines[i] for i in indices]\n",
    "with open('train.tsv', 'a') as train_file:\n",
    "    for idx, i in enumerate(train):\n",
    "        if idx < len(train)-1:\n",
    "            train_file.write(i+'\\n')\n",
    "        else:\n",
    "            train_file.write(i)\n",
    "\n",
    "            \n",
    "with open('devraw.tsv') as devtsv:\n",
    "    devlines = devtsv.read().split('\\n')[:]\n",
    "devset_size = len(devlines)\n",
    "devindices = list(range(devset_size))\n",
    "np.random.shuffle(devindices)\n",
    "dev = [devlines[i] for i in devindices]\n",
    "with open('dev.tsv', 'a') as dev_file:\n",
    "    for idx, i in enumerate(dev):\n",
    "        if idx < len(dev)-1:\n",
    "            dev_file.write(i+'\\n')\n",
    "        else:\n",
    "            dev_file.write(i)\n",
    "\n",
    "\n",
    "with open('testraw.tsv') as testtsv:\n",
    "    testlines = testtsv.read().split('\\n')[:]\n",
    "testset_size = len(testlines)\n",
    "testindices = list(range(testset_size))\n",
    "np.random.shuffle(testindices)\n",
    "test = [testlines[i] for i in testindices]\n",
    "with open('test.tsv', 'a') as test_file:\n",
    "    for idx, i in enumerate(test):\n",
    "        if idx < len(test)-1:\n",
    "            test_file.write(i+'\\n')\n",
    "        else:\n",
    "            test_file.write(i)"
   ]
  },
  {
   "cell_type": "code",
   "execution_count": null,
   "metadata": {},
   "outputs": [],
   "source": []
  }
 ],
 "metadata": {
  "kernelspec": {
   "display_name": "Python 3",
   "language": "python",
   "name": "python3"
  },
  "language_info": {
   "codemirror_mode": {
    "name": "ipython",
    "version": 3
   },
   "file_extension": ".py",
   "mimetype": "text/x-python",
   "name": "python",
   "nbconvert_exporter": "python",
   "pygments_lexer": "ipython3",
   "version": "3.5.2"
  }
 },
 "nbformat": 4,
 "nbformat_minor": 2
}
